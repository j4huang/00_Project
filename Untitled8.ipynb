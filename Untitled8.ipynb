{
  "nbformat": 4,
  "nbformat_minor": 0,
  "metadata": {
    "colab": {
      "provenance": [],
      "toc_visible": true,
      "authorship_tag": "ABX9TyNwEPeAnzu5iVhg3IWN6E57",
      "include_colab_link": true
    },
    "kernelspec": {
      "name": "python3",
      "display_name": "Python 3"
    },
    "language_info": {
      "name": "python"
    }
  },
  "cells": [
    {
      "cell_type": "markdown",
      "metadata": {
        "id": "view-in-github",
        "colab_type": "text"
      },
      "source": [
        "<a href=\"https://colab.research.google.com/github/j4huang/00_Project/blob/main/Untitled8.ipynb\" target=\"_parent\"><img src=\"https://colab.research.google.com/assets/colab-badge.svg\" alt=\"Open In Colab\"/></a>"
      ]
    },
    {
      "cell_type": "code",
      "execution_count": 1,
      "metadata": {
        "colab": {
          "base_uri": "https://localhost:8080/"
        },
        "id": "HpbnWWW2TYqo",
        "outputId": "85727946-2e6a-442d-a53c-592e2495d828"
      },
      "outputs": [
        {
          "output_type": "stream",
          "name": "stdout",
          "text": [
            "歡迎來到 Google Colab！\n",
            "\n",
            "基本運算示範：\n",
            "加法：10 + 5 = 15\n",
            "減法：10 - 5 = 5\n",
            "乘法：10 × 5 = 50\n",
            "除法：10 ÷ 5 = 2.0\n"
          ]
        }
      ],
      "source": [
        "# 這是一個程式碼儲存格（Code Cell）\n",
        "# 點擊左側的播放按鈕或使用 Shift + Enter 來執行\n",
        "print(\"歡迎來到 Google Colab！\")\n",
        "\n",
        "# 試試看基本的數學運算\n",
        "a = 10\n",
        "b = 5\n",
        "print(f\"\\n基本運算示範：\")\n",
        "print(f\"加法：{a} + {b} = {a + b}\")\n",
        "print(f\"減法：{a} - {b} = {a - b}\")\n",
        "print(f\"乘法：{a} × {b} = {a * b}\")\n",
        "print(f\"除法：{a} ÷ {b} = {a / b}\")"
      ]
    },
    {
      "cell_type": "code",
      "source": [],
      "metadata": {
        "id": "gzLtZjzIVSwG"
      },
      "execution_count": null,
      "outputs": []
    }
  ]
}